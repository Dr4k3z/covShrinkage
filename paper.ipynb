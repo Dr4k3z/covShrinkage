{
 "cells": [
  {
   "cell_type": "markdown",
   "id": "d5815e17",
   "metadata": {},
   "source": [
    "# A Well Conditioned Estimator of Large Covariance Matrices"
   ]
  },
  {
   "cell_type": "code",
   "execution_count": 2,
   "id": "66f7aa44",
   "metadata": {},
   "outputs": [],
   "source": [
    "import matplotlib.pyplot as plt\n",
    "import numpy as np\n",
    "\n",
    "from covShrinkage.linear import IdentityShrinkage, LinearShrinkage"
   ]
  },
  {
   "cell_type": "code",
   "execution_count": 3,
   "id": "d7cfd62c",
   "metadata": {},
   "outputs": [],
   "source": [
    "n_vals = np.array([200, 160, 100, 80, 50, 40, 32, 25, 20, 16, 10, 8, 5, 4])\n",
    "p_vals = np.array([4, 5, 8, 10, 16, 20, 25, 32, 40, 50, 80, 100, 160, 200])"
   ]
  },
  {
   "cell_type": "code",
   "execution_count": 4,
   "id": "81ebbf36",
   "metadata": {},
   "outputs": [],
   "source": [
    "def create_covariance(p: int) -> np.ndarray:\n",
    "    \"\"\"Create a covariance matrix with decaying eigenvalues.\"\"\"\n",
    "    lambdas = np.random.lognormal(mean=1, sigma=0.5, size=p)\n",
    "    return np.diag(lambdas)\n",
    "\n",
    "def create_data(n: int, p: int, sigma: np.ndarray) -> np.ndarray:\n",
    "    \"\"\"Create data from a multivariate normal distribution with given covariance.\"\"\"\n",
    "    return np.random.multivariate_normal(mean=np.zeros(p), cov=sigma, size=n)"
   ]
  },
  {
   "cell_type": "code",
   "execution_count": 5,
   "id": "20d1a3f9",
   "metadata": {},
   "outputs": [],
   "source": [
    "np.random.seed(42)\n",
    "\n",
    "n, p = 200, 4\n",
    "\n",
    "trials = np.zeros((2000, 1))\n",
    "\n",
    "for t in range(2000):\n",
    "    sigma = create_covariance(p)\n",
    "    X = create_data(n, p, sigma)\n",
    "\n",
    "    sample_cov = X.T @ X / n\n",
    "\n",
    "    # s_star = IdentityShrinkage(assume_centered=True).fit(X).covariance\n",
    "    s_star = LinearShrinkage(assume_centered=True, rho=0.5, target=np.eye(p)).fit(X).covariance\n",
    "\n",
    "    trials[t] = (np.linalg.norm(sigma - sample_cov, 'fro')**2 - np.linalg.norm(sigma - s_star, 'fro')**2) / np.linalg.norm(sigma - sample_cov, 'fro')**2"
   ]
  },
  {
   "cell_type": "code",
   "execution_count": 6,
   "id": "aa8d90dc",
   "metadata": {},
   "outputs": [
    {
     "data": {
      "text/plain": [
       "(np.float64(-7.126337507673902), np.float64(6.6747971067094385))"
      ]
     },
     "execution_count": 6,
     "metadata": {},
     "output_type": "execute_result"
    }
   ],
   "source": [
    "np.mean(trials), np.std(trials)"
   ]
  },
  {
   "cell_type": "code",
   "execution_count": 7,
   "id": "288d374b",
   "metadata": {},
   "outputs": [],
   "source": [
    "import numpy as np\n",
    "\n",
    "\n",
    "def cov1para(Y, k=None):\n",
    "    \"\"\"\n",
    "    Ledoit-Wolf linear shrinkage estimator for covariance matrix.\n",
    "    \n",
    "    Shrinks towards one-parameter matrix:\n",
    "        - all variances of the target are the same\n",
    "        - all covariances of the target are zero\n",
    "    \n",
    "    Parameters\n",
    "    ----------\n",
    "    Y : ndarray of shape (N, p)\n",
    "        Raw data matrix of N iid observations on p random variables\n",
    "    k : int, optional\n",
    "        - If None (default): demeans the data and adjusts sample size\n",
    "        - If 0: no demeaning takes place\n",
    "        - If 1: data is already demeaned\n",
    "    \n",
    "    Returns\n",
    "    -------\n",
    "    sigmahat : ndarray of shape (p, p)\n",
    "        Invertible covariance matrix estimator\n",
    "    \n",
    "    References\n",
    "    ----------\n",
    "    Ledoit, O. and Wolf, M. (2004). A well-conditioned estimator for \n",
    "    large-dimensional covariance matrices. Journal of Multivariate Analysis.\n",
    "    \n",
    "    This implementation is based on the MATLAB code (version 01/2021)\n",
    "    by Olivier Ledoit and Michael Wolf.\n",
    "    \"\"\"\n",
    "    # Get sample size and matrix dimension\n",
    "    N, p = Y.shape\n",
    "    \n",
    "    # De-mean returns if required\n",
    "    if k is None or np.isnan(k):\n",
    "        # Default setting: demean the data\n",
    "        Y = Y - np.mean(Y, axis=0)\n",
    "        k = 1  # subtract one degree of freedom\n",
    "    \n",
    "    # Adjust effective sample size\n",
    "    n = N - k\n",
    "    \n",
    "    # Compute sample covariance matrix\n",
    "    sample = (Y.T @ Y) / n\n",
    "    \n",
    "    # Compute shrinkage target (scaled identity matrix)\n",
    "    meanvar = np.mean(np.diag(sample))\n",
    "    target = meanvar * np.eye(p)\n",
    "    \n",
    "    # Estimate the parameter pi (Ledoit and Wolf, 2003)\n",
    "    Y2 = Y ** 2\n",
    "    sample2 = (Y2.T @ Y2) / n  # sample matrix of squared returns\n",
    "    piMat = sample2 - sample ** 2\n",
    "    pihat = np.sum(piMat)\n",
    "    \n",
    "    # Estimate the parameter gamma (Ledoit and Wolf, 2003)\n",
    "    gammahat = np.linalg.norm(sample - target, 'fro') ** 2\n",
    "    \n",
    "    # Parameters rho_diag and rho_off (set to 0 in this implementation)\n",
    "    rho_diag = 0\n",
    "    rho_off = 0\n",
    "    \n",
    "    # Compute shrinkage intensity\n",
    "    rhohat = rho_diag + rho_off\n",
    "    kappahat = (pihat - rhohat) / gammahat\n",
    "    shrinkage = max(0, min(1, kappahat / n))\n",
    "    \n",
    "    # Compute shrinkage estimator\n",
    "    sigmahat = shrinkage * target + (1 - shrinkage) * sample\n",
    "    \n",
    "    return sigmahat\n"
   ]
  },
  {
   "cell_type": "code",
   "execution_count": 8,
   "id": "34539815",
   "metadata": {},
   "outputs": [],
   "source": [
    "np.random.seed(0)\n",
    "\n",
    "n, p = 200, 4\n",
    "\n",
    "trials = np.zeros((2000, 1))\n",
    "\n",
    "for t in range(2000):\n",
    "    sigma = create_covariance(p)\n",
    "    X = create_data(n, p, sigma)\n",
    "\n",
    "    sample_cov = X.T @ X / n\n",
    "\n",
    "    # s_star = IdentityShrinkage(assume_centered=True).fit(X).covariance\n",
    "    s_star = cov1para(X, k=1)\n",
    "\n",
    "    trials[t] = (np.linalg.norm(sigma - sample_cov, 'fro')**2 - np.linalg.norm(sigma - s_star, 'fro')**2) / np.linalg.norm(sigma - sample_cov, 'fro')**2"
   ]
  },
  {
   "cell_type": "code",
   "execution_count": 10,
   "id": "f9c9cf95",
   "metadata": {},
   "outputs": [
    {
     "data": {
      "text/plain": [
       "np.float64(0.034624386606333914)"
      ]
     },
     "execution_count": 10,
     "metadata": {},
     "output_type": "execute_result"
    }
   ],
   "source": [
    "np.mean(trials)"
   ]
  }
 ],
 "metadata": {
  "kernelspec": {
   "display_name": "covShrinkage",
   "language": "python",
   "name": "python3"
  },
  "language_info": {
   "codemirror_mode": {
    "name": "ipython",
    "version": 3
   },
   "file_extension": ".py",
   "mimetype": "text/x-python",
   "name": "python",
   "nbconvert_exporter": "python",
   "pygments_lexer": "ipython3",
   "version": "3.12.8"
  }
 },
 "nbformat": 4,
 "nbformat_minor": 5
}
